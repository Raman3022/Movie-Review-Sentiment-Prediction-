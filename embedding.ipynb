{
 "cells": [
  {
   "cell_type": "code",
   "execution_count": 2,
   "metadata": {},
   "outputs": [
    {
     "name": "stdout",
     "output_type": "stream",
     "text": [
      "Requirement already satisfied: tensorflow in c:\\users\\raman\\appdata\\local\\programs\\python\\python38\\lib\\site-packages (2.12.0)\n",
      "Requirement already satisfied: tensorflow-intel==2.12.0 in c:\\users\\raman\\appdata\\local\\programs\\python\\python38\\lib\\site-packages (from tensorflow) (2.12.0)\n",
      "Requirement already satisfied: absl-py>=1.0.0 in c:\\users\\raman\\appdata\\local\\programs\\python\\python38\\lib\\site-packages (from tensorflow-intel==2.12.0->tensorflow) (1.4.0)\n",
      "Requirement already satisfied: astunparse>=1.6.0 in c:\\users\\raman\\appdata\\local\\programs\\python\\python38\\lib\\site-packages (from tensorflow-intel==2.12.0->tensorflow) (1.6.3)\n",
      "Requirement already satisfied: flatbuffers>=2.0 in c:\\users\\raman\\appdata\\local\\programs\\python\\python38\\lib\\site-packages (from tensorflow-intel==2.12.0->tensorflow) (24.3.25)\n",
      "Requirement already satisfied: gast<=0.4.0,>=0.2.1 in c:\\users\\raman\\appdata\\local\\programs\\python\\python38\\lib\\site-packages (from tensorflow-intel==2.12.0->tensorflow) (0.4.0)\n",
      "Requirement already satisfied: google-pasta>=0.1.1 in c:\\users\\raman\\appdata\\local\\programs\\python\\python38\\lib\\site-packages (from tensorflow-intel==2.12.0->tensorflow) (0.2.0)\n",
      "Requirement already satisfied: h5py>=2.9.0 in c:\\users\\raman\\appdata\\local\\programs\\python\\python38\\lib\\site-packages (from tensorflow-intel==2.12.0->tensorflow) (3.11.0)\n",
      "Requirement already satisfied: jax>=0.3.15 in c:\\users\\raman\\appdata\\local\\programs\\python\\python38\\lib\\site-packages (from tensorflow-intel==2.12.0->tensorflow) (0.4.13)\n",
      "Requirement already satisfied: libclang>=13.0.0 in c:\\users\\raman\\appdata\\local\\programs\\python\\python38\\lib\\site-packages (from tensorflow-intel==2.12.0->tensorflow) (18.1.1)\n",
      "Requirement already satisfied: numpy<1.24,>=1.22 in c:\\users\\raman\\appdata\\local\\programs\\python\\python38\\lib\\site-packages (from tensorflow-intel==2.12.0->tensorflow) (1.23.5)\n",
      "Requirement already satisfied: opt-einsum>=2.3.2 in c:\\users\\raman\\appdata\\local\\programs\\python\\python38\\lib\\site-packages (from tensorflow-intel==2.12.0->tensorflow) (3.4.0)\n",
      "Requirement already satisfied: packaging in c:\\users\\raman\\appdata\\local\\programs\\python\\python38\\lib\\site-packages (from tensorflow-intel==2.12.0->tensorflow) (24.2)\n",
      "Requirement already satisfied: protobuf!=4.21.0,!=4.21.1,!=4.21.2,!=4.21.3,!=4.21.4,!=4.21.5,<5.0.0dev,>=3.20.3 in c:\\users\\raman\\appdata\\local\\programs\\python\\python38\\lib\\site-packages (from tensorflow-intel==2.12.0->tensorflow) (4.23.3)\n",
      "Requirement already satisfied: setuptools in c:\\users\\raman\\appdata\\local\\programs\\python\\python38\\lib\\site-packages (from tensorflow-intel==2.12.0->tensorflow) (75.3.0)\n",
      "Requirement already satisfied: six>=1.12.0 in c:\\users\\raman\\appdata\\local\\programs\\python\\python38\\lib\\site-packages (from tensorflow-intel==2.12.0->tensorflow) (1.16.0)\n",
      "Requirement already satisfied: termcolor>=1.1.0 in c:\\users\\raman\\appdata\\local\\programs\\python\\python38\\lib\\site-packages (from tensorflow-intel==2.12.0->tensorflow) (2.4.0)\n",
      "Requirement already satisfied: typing-extensions>=3.6.6 in c:\\users\\raman\\appdata\\local\\programs\\python\\python38\\lib\\site-packages (from tensorflow-intel==2.12.0->tensorflow) (4.12.2)\n",
      "Requirement already satisfied: wrapt<1.15,>=1.11.0 in c:\\users\\raman\\appdata\\local\\programs\\python\\python38\\lib\\site-packages (from tensorflow-intel==2.12.0->tensorflow) (1.14.1)\n",
      "Requirement already satisfied: grpcio<2.0,>=1.24.3 in c:\\users\\raman\\appdata\\local\\programs\\python\\python38\\lib\\site-packages (from tensorflow-intel==2.12.0->tensorflow) (1.66.2)\n",
      "Requirement already satisfied: tensorboard<2.13,>=2.12 in c:\\users\\raman\\appdata\\local\\programs\\python\\python38\\lib\\site-packages (from tensorflow-intel==2.12.0->tensorflow) (2.12.3)\n",
      "Requirement already satisfied: tensorflow-estimator<2.13,>=2.12.0 in c:\\users\\raman\\appdata\\local\\programs\\python\\python38\\lib\\site-packages (from tensorflow-intel==2.12.0->tensorflow) (2.12.0)\n",
      "Requirement already satisfied: keras<2.13,>=2.12.0 in c:\\users\\raman\\appdata\\local\\programs\\python\\python38\\lib\\site-packages (from tensorflow-intel==2.12.0->tensorflow) (2.12.0)\n",
      "Requirement already satisfied: tensorflow-io-gcs-filesystem>=0.23.1 in c:\\users\\raman\\appdata\\local\\programs\\python\\python38\\lib\\site-packages (from tensorflow-intel==2.12.0->tensorflow) (0.31.0)\n",
      "Requirement already satisfied: wheel<1.0,>=0.23.0 in c:\\users\\raman\\appdata\\local\\programs\\python\\python38\\lib\\site-packages (from astunparse>=1.6.0->tensorflow-intel==2.12.0->tensorflow) (0.45.1)\n",
      "Requirement already satisfied: ml-dtypes>=0.1.0 in c:\\users\\raman\\appdata\\local\\programs\\python\\python38\\lib\\site-packages (from jax>=0.3.15->tensorflow-intel==2.12.0->tensorflow) (0.2.0)\n",
      "Requirement already satisfied: scipy>=1.7 in c:\\users\\raman\\appdata\\local\\programs\\python\\python38\\lib\\site-packages (from jax>=0.3.15->tensorflow-intel==2.12.0->tensorflow) (1.10.1)\n",
      "Requirement already satisfied: importlib-metadata>=4.6 in c:\\users\\raman\\appdata\\local\\programs\\python\\python38\\lib\\site-packages (from jax>=0.3.15->tensorflow-intel==2.12.0->tensorflow) (8.5.0)\n",
      "Requirement already satisfied: google-auth<3,>=1.6.3 in c:\\users\\raman\\appdata\\local\\programs\\python\\python38\\lib\\site-packages (from tensorboard<2.13,>=2.12->tensorflow-intel==2.12.0->tensorflow) (2.35.0)\n",
      "Requirement already satisfied: google-auth-oauthlib<1.1,>=0.5 in c:\\users\\raman\\appdata\\local\\programs\\python\\python38\\lib\\site-packages (from tensorboard<2.13,>=2.12->tensorflow-intel==2.12.0->tensorflow) (1.0.0)\n",
      "Requirement already satisfied: markdown>=2.6.8 in c:\\users\\raman\\appdata\\local\\programs\\python\\python38\\lib\\site-packages (from tensorboard<2.13,>=2.12->tensorflow-intel==2.12.0->tensorflow) (3.7)\n",
      "Requirement already satisfied: requests<3,>=2.21.0 in c:\\users\\raman\\appdata\\local\\programs\\python\\python38\\lib\\site-packages (from tensorboard<2.13,>=2.12->tensorflow-intel==2.12.0->tensorflow) (2.32.3)\n",
      "Requirement already satisfied: tensorboard-data-server<0.8.0,>=0.7.0 in c:\\users\\raman\\appdata\\local\\programs\\python\\python38\\lib\\site-packages (from tensorboard<2.13,>=2.12->tensorflow-intel==2.12.0->tensorflow) (0.7.2)\n",
      "Requirement already satisfied: werkzeug>=1.0.1 in c:\\users\\raman\\appdata\\local\\programs\\python\\python38\\lib\\site-packages (from tensorboard<2.13,>=2.12->tensorflow-intel==2.12.0->tensorflow) (3.0.4)\n",
      "Requirement already satisfied: cachetools<6.0,>=2.0.0 in c:\\users\\raman\\appdata\\local\\programs\\python\\python38\\lib\\site-packages (from google-auth<3,>=1.6.3->tensorboard<2.13,>=2.12->tensorflow-intel==2.12.0->tensorflow) (5.5.0)\n",
      "Requirement already satisfied: pyasn1-modules>=0.2.1 in c:\\users\\raman\\appdata\\local\\programs\\python\\python38\\lib\\site-packages (from google-auth<3,>=1.6.3->tensorboard<2.13,>=2.12->tensorflow-intel==2.12.0->tensorflow) (0.4.1)\n",
      "Requirement already satisfied: rsa<5,>=3.1.4 in c:\\users\\raman\\appdata\\local\\programs\\python\\python38\\lib\\site-packages (from google-auth<3,>=1.6.3->tensorboard<2.13,>=2.12->tensorflow-intel==2.12.0->tensorflow) (4.9)\n",
      "Requirement already satisfied: requests-oauthlib>=0.7.0 in c:\\users\\raman\\appdata\\local\\programs\\python\\python38\\lib\\site-packages (from google-auth-oauthlib<1.1,>=0.5->tensorboard<2.13,>=2.12->tensorflow-intel==2.12.0->tensorflow) (2.0.0)\n",
      "Requirement already satisfied: zipp>=3.20 in c:\\users\\raman\\appdata\\local\\programs\\python\\python38\\lib\\site-packages (from importlib-metadata>=4.6->jax>=0.3.15->tensorflow-intel==2.12.0->tensorflow) (3.20.2)\n",
      "Requirement already satisfied: charset-normalizer<4,>=2 in c:\\users\\raman\\appdata\\local\\programs\\python\\python38\\lib\\site-packages (from requests<3,>=2.21.0->tensorboard<2.13,>=2.12->tensorflow-intel==2.12.0->tensorflow) (3.3.2)\n",
      "Requirement already satisfied: idna<4,>=2.5 in c:\\users\\raman\\appdata\\local\\programs\\python\\python38\\lib\\site-packages (from requests<3,>=2.21.0->tensorboard<2.13,>=2.12->tensorflow-intel==2.12.0->tensorflow) (3.10)\n",
      "Requirement already satisfied: urllib3<3,>=1.21.1 in c:\\users\\raman\\appdata\\local\\programs\\python\\python38\\lib\\site-packages (from requests<3,>=2.21.0->tensorboard<2.13,>=2.12->tensorflow-intel==2.12.0->tensorflow) (1.26.15)\n",
      "Requirement already satisfied: certifi>=2017.4.17 in c:\\users\\raman\\appdata\\local\\programs\\python\\python38\\lib\\site-packages (from requests<3,>=2.21.0->tensorboard<2.13,>=2.12->tensorflow-intel==2.12.0->tensorflow) (2024.8.30)\n",
      "Requirement already satisfied: MarkupSafe>=2.1.1 in c:\\users\\raman\\appdata\\local\\programs\\python\\python38\\lib\\site-packages (from werkzeug>=1.0.1->tensorboard<2.13,>=2.12->tensorflow-intel==2.12.0->tensorflow) (2.1.5)\n",
      "Requirement already satisfied: pyasn1<0.7.0,>=0.4.6 in c:\\users\\raman\\appdata\\local\\programs\\python\\python38\\lib\\site-packages (from pyasn1-modules>=0.2.1->google-auth<3,>=1.6.3->tensorboard<2.13,>=2.12->tensorflow-intel==2.12.0->tensorflow) (0.6.1)\n",
      "Requirement already satisfied: oauthlib>=3.0.0 in c:\\users\\raman\\appdata\\local\\programs\\python\\python38\\lib\\site-packages (from requests-oauthlib>=0.7.0->google-auth-oauthlib<1.1,>=0.5->tensorboard<2.13,>=2.12->tensorflow-intel==2.12.0->tensorflow) (3.2.2)\n",
      "Note: you may need to restart the kernel to use updated packages.\n"
     ]
    }
   ],
   "source": [
    "pip install tensorflow"
   ]
  },
  {
   "cell_type": "code",
   "execution_count": 5,
   "metadata": {},
   "outputs": [],
   "source": [
    "from tensorflow.keras.preprocessing.text import one_hot\n"
   ]
  },
  {
   "cell_type": "code",
   "execution_count": 11,
   "metadata": {},
   "outputs": [],
   "source": [
    "## sentences\n",
    "\n",
    "sent = ['the glass of milk',\n",
    "        'the glass of juice',\n",
    "        'I am a good boy',\n",
    "        'I am a good developer',\n",
    "        'understand the meaning of words'\n",
    "        'your videos are good',\n",
    "        'I am happy to meet you',\n",
    "        'we will win the match',\n",
    "        'congratulations',\n",
    "        'I am very happy to meet you',\n",
    "        'good morning',\n",
    "        'good afternoon',\n",
    "        'good night',\n",
    "        'take care'\n",
    "        ]\n",
    "## tokenizing the text\n"
   ]
  },
  {
   "cell_type": "code",
   "execution_count": 12,
   "metadata": {},
   "outputs": [
    {
     "data": {
      "text/plain": [
       "['the glass of milk',\n",
       " 'the glass of juice',\n",
       " 'I am a good boy',\n",
       " 'I am a good developer',\n",
       " 'understand the meaning of wordsyour videos are good',\n",
       " 'I am happy to meet you',\n",
       " 'we will win the match',\n",
       " 'congratulations',\n",
       " 'I am very happy to meet you',\n",
       " 'good morning',\n",
       " 'good afternoon',\n",
       " 'good night',\n",
       " 'take care']"
      ]
     },
     "execution_count": 12,
     "metadata": {},
     "output_type": "execute_result"
    }
   ],
   "source": [
    "sent"
   ]
  },
  {
   "cell_type": "code",
   "execution_count": 13,
   "metadata": {},
   "outputs": [],
   "source": [
    "## define the vocabulary size\n",
    "\n",
    "voc_size = 10000  # Size of the vocabulary"
   ]
  },
  {
   "cell_type": "code",
   "execution_count": 14,
   "metadata": {},
   "outputs": [
    {
     "data": {
      "text/plain": [
       "[[6059, 2255, 1240, 9325],\n",
       " [6059, 2255, 1240, 9536],\n",
       " [1628, 5445, 1442, 5377, 2395],\n",
       " [1628, 5445, 1442, 5377, 7699],\n",
       " [7472, 6059, 5558, 1240, 7136, 1073, 5874, 5377],\n",
       " [1628, 5445, 4399, 9446, 4913, 831],\n",
       " [7251, 3712, 6409, 6059, 4815],\n",
       " [867],\n",
       " [1628, 5445, 3880, 4399, 9446, 4913, 831],\n",
       " [5377, 7431],\n",
       " [5377, 8476],\n",
       " [5377, 6326],\n",
       " [901, 577]]"
      ]
     },
     "execution_count": 14,
     "metadata": {},
     "output_type": "execute_result"
    }
   ],
   "source": [
    "## one hot representation\n",
    "\n",
    "one_hot_repr = [one_hot(words,voc_size) for words in sent]\n",
    "one_hot_repr\n",
    "\n",
    "    "
   ]
  },
  {
   "cell_type": "code",
   "execution_count": 16,
   "metadata": {},
   "outputs": [],
   "source": [
    "## word embedding representation \n",
    "\n",
    "from tensorflow.keras.layers import Embedding\n",
    "from tensorflow.keras.preprocessing.sequence import pad_sequences\n",
    "from tensorflow.keras.models import Sequential\n"
   ]
  },
  {
   "cell_type": "code",
   "execution_count": 21,
   "metadata": {},
   "outputs": [
    {
     "name": "stdout",
     "output_type": "stream",
     "text": [
      "[[   0    0    0    0 6059 2255 1240 9325]\n",
      " [   0    0    0    0 6059 2255 1240 9536]\n",
      " [   0    0    0 1628 5445 1442 5377 2395]\n",
      " [   0    0    0 1628 5445 1442 5377 7699]\n",
      " [7472 6059 5558 1240 7136 1073 5874 5377]\n",
      " [   0    0 1628 5445 4399 9446 4913  831]\n",
      " [   0    0    0 7251 3712 6409 6059 4815]\n",
      " [   0    0    0    0    0    0    0  867]\n",
      " [   0 1628 5445 3880 4399 9446 4913  831]\n",
      " [   0    0    0    0    0    0 5377 7431]\n",
      " [   0    0    0    0    0    0 5377 8476]\n",
      " [   0    0    0    0    0    0 5377 6326]\n",
      " [   0    0    0    0    0    0  901  577]]\n"
     ]
    }
   ],
   "source": [
    "import numpy as np\n",
    "\n",
    "# Define the sentence length\n",
    "sent_length = 8\n",
    "\n",
    "# Pad the sequences\n",
    "embedded_docs = pad_sequences(one_hot_repr, padding=\"pre\", maxlen=sent_length)\n",
    "print(embedded_docs)"
   ]
  },
  {
   "cell_type": "markdown",
   "metadata": {},
   "source": []
  },
  {
   "cell_type": "code",
   "execution_count": 22,
   "metadata": {},
   "outputs": [],
   "source": [
    "## feature reprensetation \n",
    "\n",
    "dim=10\n",
    "\n",
    "\n"
   ]
  },
  {
   "cell_type": "code",
   "execution_count": 24,
   "metadata": {},
   "outputs": [],
   "source": [
    "model = Sequential()\n",
    "model.add(Embedding(voc_size, dim, input_length=sent_length))\n",
    "model.compile('adam','mse')"
   ]
  },
  {
   "cell_type": "code",
   "execution_count": 26,
   "metadata": {},
   "outputs": [
    {
     "name": "stdout",
     "output_type": "stream",
     "text": [
      "Model: \"sequential_1\"\n",
      "_________________________________________________________________\n",
      " Layer (type)                Output Shape              Param #   \n",
      "=================================================================\n",
      " embedding_1 (Embedding)     (None, 8, 10)             100000    \n",
      "                                                                 \n",
      "=================================================================\n",
      "Total params: 100,000\n",
      "Trainable params: 100,000\n",
      "Non-trainable params: 0\n",
      "_________________________________________________________________\n"
     ]
    }
   ],
   "source": [
    "model.summary()"
   ]
  },
  {
   "cell_type": "code",
   "execution_count": 27,
   "metadata": {},
   "outputs": [
    {
     "name": "stdout",
     "output_type": "stream",
     "text": [
      "1/1 [==============================] - 0s 165ms/step\n"
     ]
    },
    {
     "data": {
      "text/plain": [
       "array([[[ 0.0356588 ,  0.0167574 ,  0.03583143, ...,  0.03277091,\n",
       "          0.04411009, -0.0162045 ],\n",
       "        [ 0.0356588 ,  0.0167574 ,  0.03583143, ...,  0.03277091,\n",
       "          0.04411009, -0.0162045 ],\n",
       "        [ 0.0356588 ,  0.0167574 ,  0.03583143, ...,  0.03277091,\n",
       "          0.04411009, -0.0162045 ],\n",
       "        ...,\n",
       "        [ 0.03849589,  0.04152152, -0.03089981, ..., -0.02386524,\n",
       "         -0.01829695, -0.00876785],\n",
       "        [-0.00696965,  0.00405099,  0.02740857, ..., -0.00615442,\n",
       "          0.02370243,  0.03255517],\n",
       "        [-0.00801301,  0.04869467, -0.03142454, ..., -0.01963503,\n",
       "          0.03169194, -0.04140123]],\n",
       "\n",
       "       [[ 0.0356588 ,  0.0167574 ,  0.03583143, ...,  0.03277091,\n",
       "          0.04411009, -0.0162045 ],\n",
       "        [ 0.0356588 ,  0.0167574 ,  0.03583143, ...,  0.03277091,\n",
       "          0.04411009, -0.0162045 ],\n",
       "        [ 0.0356588 ,  0.0167574 ,  0.03583143, ...,  0.03277091,\n",
       "          0.04411009, -0.0162045 ],\n",
       "        ...,\n",
       "        [ 0.03849589,  0.04152152, -0.03089981, ..., -0.02386524,\n",
       "         -0.01829695, -0.00876785],\n",
       "        [-0.00696965,  0.00405099,  0.02740857, ..., -0.00615442,\n",
       "          0.02370243,  0.03255517],\n",
       "        [-0.0041706 , -0.02808459, -0.03477915, ...,  0.02608338,\n",
       "         -0.01884673, -0.01739893]],\n",
       "\n",
       "       [[ 0.0356588 ,  0.0167574 ,  0.03583143, ...,  0.03277091,\n",
       "          0.04411009, -0.0162045 ],\n",
       "        [ 0.0356588 ,  0.0167574 ,  0.03583143, ...,  0.03277091,\n",
       "          0.04411009, -0.0162045 ],\n",
       "        [ 0.0356588 ,  0.0167574 ,  0.03583143, ...,  0.03277091,\n",
       "          0.04411009, -0.0162045 ],\n",
       "        ...,\n",
       "        [ 0.04602924, -0.04617546, -0.01382719, ..., -0.01881999,\n",
       "         -0.04516109, -0.00936012],\n",
       "        [ 0.04044164, -0.0315323 ,  0.02433783, ..., -0.01043784,\n",
       "          0.00855113,  0.03361296],\n",
       "        [ 0.01428607, -0.02093293, -0.00320479, ..., -0.00599036,\n",
       "         -0.02825718, -0.00981381]],\n",
       "\n",
       "       ...,\n",
       "\n",
       "       [[ 0.0356588 ,  0.0167574 ,  0.03583143, ...,  0.03277091,\n",
       "          0.04411009, -0.0162045 ],\n",
       "        [ 0.0356588 ,  0.0167574 ,  0.03583143, ...,  0.03277091,\n",
       "          0.04411009, -0.0162045 ],\n",
       "        [ 0.0356588 ,  0.0167574 ,  0.03583143, ...,  0.03277091,\n",
       "          0.04411009, -0.0162045 ],\n",
       "        ...,\n",
       "        [ 0.0356588 ,  0.0167574 ,  0.03583143, ...,  0.03277091,\n",
       "          0.04411009, -0.0162045 ],\n",
       "        [ 0.04044164, -0.0315323 ,  0.02433783, ..., -0.01043784,\n",
       "          0.00855113,  0.03361296],\n",
       "        [-0.01253746,  0.04882261,  0.03175912, ...,  0.03145012,\n",
       "          0.02481996,  0.02621484]],\n",
       "\n",
       "       [[ 0.0356588 ,  0.0167574 ,  0.03583143, ...,  0.03277091,\n",
       "          0.04411009, -0.0162045 ],\n",
       "        [ 0.0356588 ,  0.0167574 ,  0.03583143, ...,  0.03277091,\n",
       "          0.04411009, -0.0162045 ],\n",
       "        [ 0.0356588 ,  0.0167574 ,  0.03583143, ...,  0.03277091,\n",
       "          0.04411009, -0.0162045 ],\n",
       "        ...,\n",
       "        [ 0.0356588 ,  0.0167574 ,  0.03583143, ...,  0.03277091,\n",
       "          0.04411009, -0.0162045 ],\n",
       "        [ 0.04044164, -0.0315323 ,  0.02433783, ..., -0.01043784,\n",
       "          0.00855113,  0.03361296],\n",
       "        [-0.0071911 ,  0.00773861,  0.01043157, ...,  0.03337533,\n",
       "         -0.02580359,  0.03072903]],\n",
       "\n",
       "       [[ 0.0356588 ,  0.0167574 ,  0.03583143, ...,  0.03277091,\n",
       "          0.04411009, -0.0162045 ],\n",
       "        [ 0.0356588 ,  0.0167574 ,  0.03583143, ...,  0.03277091,\n",
       "          0.04411009, -0.0162045 ],\n",
       "        [ 0.0356588 ,  0.0167574 ,  0.03583143, ...,  0.03277091,\n",
       "          0.04411009, -0.0162045 ],\n",
       "        ...,\n",
       "        [ 0.0356588 ,  0.0167574 ,  0.03583143, ...,  0.03277091,\n",
       "          0.04411009, -0.0162045 ],\n",
       "        [ 0.0475278 , -0.01707642, -0.01473939, ...,  0.01292865,\n",
       "          0.03273621, -0.00472839],\n",
       "        [-0.04488119,  0.03084053,  0.03801484, ..., -0.04650763,\n",
       "          0.02728119, -0.0078845 ]]], dtype=float32)"
      ]
     },
     "execution_count": 27,
     "metadata": {},
     "output_type": "execute_result"
    }
   ],
   "source": [
    "model.predict(embedded_docs)"
   ]
  },
  {
   "cell_type": "code",
   "execution_count": 29,
   "metadata": {},
   "outputs": [
    {
     "name": "stdout",
     "output_type": "stream",
     "text": [
      "1/1 [==============================] - 0s 68ms/step\n"
     ]
    },
    {
     "data": {
      "text/plain": [
       "array([[ 0.0356588 ,  0.0167574 ,  0.03583143, -0.03883969, -0.02113189,\n",
       "         0.00972845, -0.00051294,  0.03277091,  0.04411009, -0.0162045 ],\n",
       "       [ 0.0356588 ,  0.0167574 ,  0.03583143, -0.03883969, -0.02113189,\n",
       "         0.00972845, -0.00051294,  0.03277091,  0.04411009, -0.0162045 ],\n",
       "       [ 0.0356588 ,  0.0167574 ,  0.03583143, -0.03883969, -0.02113189,\n",
       "         0.00972845, -0.00051294,  0.03277091,  0.04411009, -0.0162045 ],\n",
       "       [ 0.0356588 ,  0.0167574 ,  0.03583143, -0.03883969, -0.02113189,\n",
       "         0.00972845, -0.00051294,  0.03277091,  0.04411009, -0.0162045 ],\n",
       "       [ 0.00888293,  0.03326981, -0.00252578, -0.04143484,  0.03356104,\n",
       "         0.03985142,  0.0023034 , -0.03724376, -0.01806681, -0.03775024],\n",
       "       [ 0.03849589,  0.04152152, -0.03089981, -0.04967019,  0.0138202 ,\n",
       "         0.03186036, -0.02163546, -0.02386524, -0.01829695, -0.00876785],\n",
       "       [-0.00696965,  0.00405099,  0.02740857,  0.02568979, -0.01956254,\n",
       "         0.01768227,  0.00169414, -0.00615442,  0.02370243,  0.03255517],\n",
       "       [-0.00801301,  0.04869467, -0.03142454, -0.01955419,  0.03015354,\n",
       "         0.0303019 ,  0.02807986, -0.01963503,  0.03169194, -0.04140123]],\n",
       "      dtype=float32)"
      ]
     },
     "execution_count": 29,
     "metadata": {},
     "output_type": "execute_result"
    }
   ],
   "source": [
    "model.predict(embedded_docs[0])"
   ]
  },
  {
   "cell_type": "code",
   "execution_count": null,
   "metadata": {},
   "outputs": [],
   "source": []
  }
 ],
 "metadata": {
  "kernelspec": {
   "display_name": "Python 3",
   "language": "python",
   "name": "python3"
  },
  "language_info": {
   "codemirror_mode": {
    "name": "ipython",
    "version": 3
   },
   "file_extension": ".py",
   "mimetype": "text/x-python",
   "name": "python",
   "nbconvert_exporter": "python",
   "pygments_lexer": "ipython3",
   "version": "3.8.8"
  }
 },
 "nbformat": 4,
 "nbformat_minor": 2
}
